{
 "cells": [
  {
   "cell_type": "code",
   "execution_count": 1,
   "metadata": {},
   "outputs": [],
   "source": [
    "import keras\n",
    "from keras.datasets import imdb\n",
    "from keras.layers import SimpleRNN\n",
    "from keras.layers import Dense, Dropout, Embedding, SpatialDropout1D\n",
    "from keras.preprocessing.sequence import pad_sequences\n",
    "from keras.models import Sequential\n",
    "from keras.callbacks import ModelCheckpoint\n",
    "import os\n",
    "from sklearn.metrics import roc_auc_score\n",
    "import matplotlib.pyplot as plt\n",
    "%matplotlib inline"
   ]
  },
  {
   "cell_type": "code",
   "execution_count": 2,
   "metadata": {},
   "outputs": [],
   "source": [
    "# output directory name:\n",
    "output_dir = 'model_output/rnn'\n",
    "\n",
    "# training:\n",
    "epochs = 16\n",
    "batch_size = 128\n",
    "\n",
    "# vector-space embedding:\n",
    "n_dim = 64\n",
    "n_unique_words = 10000\n",
    "max_review_length = 100 # lowered due to vanishing gradient over time\n",
    "pad_type = trunc_type = 'pre'\n",
    "drop_embed = 0.2\n",
    "\n",
    "# RNN layer architecture:\n",
    "n_rnn = 256\n",
    "drop_rnn = 0.2\n",
    "\n",
    "# dense layer architecture:\n",
    "# n_dense = 256\n",
    "# dropout = 0.2"
   ]
  },
  {
   "cell_type": "code",
   "execution_count": 3,
   "metadata": {},
   "outputs": [],
   "source": [
    "(x_train, y_train), (x_valid, y_valid) = imdb.load_data(num_words=n_unique_words)"
   ]
  },
  {
   "cell_type": "code",
   "execution_count": 4,
   "metadata": {},
   "outputs": [],
   "source": [
    "x_train = pad_sequences(x_train, maxlen=max_review_length, padding=pad_type, truncating=trunc_type, value=0)\n",
    "x_valid = pad_sequences(x_valid, maxlen=max_review_length, padding=pad_type, truncating=trunc_type, value=0)"
   ]
  },
  {
   "cell_type": "code",
   "execution_count": 5,
   "metadata": {},
   "outputs": [],
   "source": [
    "model = Sequential()\n",
    "model.add(Embedding(n_unique_words, n_dim, input_length=max_review_length))\n",
    "model.add(SpatialDropout1D(drop_embed))\n",
    "model.add(SimpleRNN(n_rnn, dropout=drop_rnn))\n",
    "# model.add(Dense(n_dense, activation='relu')) # typically don't see top dense layer in NLP like in\n",
    "# model.add(Dropout(dropout))\n",
    "model.add(Dense(1, activation='sigmoid'))"
   ]
  },
  {
   "cell_type": "code",
   "execution_count": 6,
   "metadata": {},
   "outputs": [
    {
     "name": "stdout",
     "output_type": "stream",
     "text": [
      "Model: \"sequential\"\n",
      "_________________________________________________________________\n",
      "Layer (type)                 Output Shape              Param #   \n",
      "=================================================================\n",
      "embedding (Embedding)        (None, 100, 64)           640000    \n",
      "_________________________________________________________________\n",
      "spatial_dropout1d (SpatialDr (None, 100, 64)           0         \n",
      "_________________________________________________________________\n",
      "simple_rnn (SimpleRNN)       (None, 256)               82176     \n",
      "_________________________________________________________________\n",
      "dense (Dense)                (None, 1)                 257       \n",
      "=================================================================\n",
      "Total params: 722,433\n",
      "Trainable params: 722,433\n",
      "Non-trainable params: 0\n",
      "_________________________________________________________________\n"
     ]
    }
   ],
   "source": [
    "model.summary()"
   ]
  },
  {
   "cell_type": "code",
   "execution_count": 7,
   "metadata": {},
   "outputs": [],
   "source": [
    "model.compile(loss='binary_crossentropy', optimizer='adam', metrics=['accuracy'])"
   ]
  },
  {
   "cell_type": "code",
   "execution_count": 8,
   "metadata": {},
   "outputs": [],
   "source": [
    "modelcheckpoint = ModelCheckpoint(filepath=output_dir+\"/weights.{epoch:02d}.hdf5\")\n",
    "if not os.path.exists(output_dir):\n",
    "    os.makedirs(output_dir)"
   ]
  },
  {
   "cell_type": "code",
   "execution_count": 9,
   "metadata": {},
   "outputs": [
    {
     "name": "stdout",
     "output_type": "stream",
     "text": [
      "Epoch 1/16\n",
      "196/196 [==============================] - 18s 93ms/step - loss: 0.6972 - accuracy: 0.5239 - val_loss: 0.6735 - val_accuracy: 0.5556\n",
      "Epoch 2/16\n",
      "196/196 [==============================] - 18s 94ms/step - loss: 0.6624 - accuracy: 0.5933 - val_loss: 0.6620 - val_accuracy: 0.5834\n",
      "Epoch 3/16\n",
      "196/196 [==============================] - 18s 93ms/step - loss: 0.6110 - accuracy: 0.6585 - val_loss: 0.6466 - val_accuracy: 0.6124\n",
      "Epoch 4/16\n",
      "196/196 [==============================] - 19s 95ms/step - loss: 0.5339 - accuracy: 0.7272 - val_loss: 0.5558 - val_accuracy: 0.7150\n",
      "Epoch 5/16\n",
      "196/196 [==============================] - 19s 95ms/step - loss: 0.4475 - accuracy: 0.7902 - val_loss: 0.5332 - val_accuracy: 0.7630\n",
      "Epoch 6/16\n",
      "196/196 [==============================] - 18s 91ms/step - loss: 0.4021 - accuracy: 0.8188 - val_loss: 0.4728 - val_accuracy: 0.8041\n",
      "Epoch 7/16\n",
      "196/196 [==============================] - 18s 92ms/step - loss: 0.3057 - accuracy: 0.8719 - val_loss: 0.4691 - val_accuracy: 0.8024\n",
      "Epoch 8/16\n",
      "196/196 [==============================] - 18s 94ms/step - loss: 0.2580 - accuracy: 0.8994 - val_loss: 0.5090 - val_accuracy: 0.7718\n",
      "Epoch 9/16\n",
      "196/196 [==============================] - 18s 94ms/step - loss: 0.2273 - accuracy: 0.9110 - val_loss: 0.5712 - val_accuracy: 0.8067\n",
      "Epoch 10/16\n",
      "196/196 [==============================] - 18s 94ms/step - loss: 0.2176 - accuracy: 0.9152 - val_loss: 0.5230 - val_accuracy: 0.8090\n",
      "Epoch 11/16\n",
      "196/196 [==============================] - 18s 92ms/step - loss: 0.1892 - accuracy: 0.9296 - val_loss: 0.5435 - val_accuracy: 0.8035\n",
      "Epoch 12/16\n",
      "196/196 [==============================] - 18s 91ms/step - loss: 0.1621 - accuracy: 0.9406 - val_loss: 0.6341 - val_accuracy: 0.7904\n",
      "Epoch 13/16\n",
      "196/196 [==============================] - 18s 91ms/step - loss: 0.1438 - accuracy: 0.9487 - val_loss: 0.5811 - val_accuracy: 0.7971\n",
      "Epoch 14/16\n",
      "196/196 [==============================] - 18s 91ms/step - loss: 0.1392 - accuracy: 0.9500 - val_loss: 0.6427 - val_accuracy: 0.8027\n",
      "Epoch 15/16\n",
      "196/196 [==============================] - 18s 91ms/step - loss: 0.2099 - accuracy: 0.9127 - val_loss: 0.5832 - val_accuracy: 0.7962\n",
      "Epoch 16/16\n",
      "196/196 [==============================] - 18s 91ms/step - loss: 0.3612 - accuracy: 0.8243 - val_loss: 0.6624 - val_accuracy: 0.6849\n"
     ]
    },
    {
     "data": {
      "text/plain": [
       "<tensorflow.python.keras.callbacks.History at 0x1fea673b730>"
      ]
     },
     "execution_count": 9,
     "metadata": {},
     "output_type": "execute_result"
    }
   ],
   "source": [
    "model.fit(x_train, y_train, batch_size=batch_size, epochs=epochs, verbose=1, validation_data=(x_valid, y_valid), callbacks=[modelcheckpoint])"
   ]
  },
  {
   "cell_type": "code",
   "execution_count": 10,
   "metadata": {},
   "outputs": [],
   "source": [
    "model.load_weights(output_dir+\"/weights.07.hdf5\")"
   ]
  },
  {
   "cell_type": "code",
   "execution_count": 11,
   "metadata": {},
   "outputs": [],
   "source": [
    "y_hat = model.predict(x_valid)"
   ]
  },
  {
   "cell_type": "code",
   "execution_count": 12,
   "metadata": {},
   "outputs": [
    {
     "data": {
      "image/png": "[encoded data removed]",
      "text/plain": [
       "<Figure size 432x288 with 1 Axes>"
      ]
     },
     "metadata": {
      "needs_background": "light"
     },
     "output_type": "display_data"
    }
   ],
   "source": [
    "plt.hist(y_hat)\n",
    "_ = plt.axvline(x=0.5, color='orange')"
   ]
  },
  {
   "cell_type": "code",
   "execution_count": 13,
   "metadata": {},
   "outputs": [
    {
     "data": {
      "text/plain": [
       "'87.64'"
      ]
     },
     "execution_count": 13,
     "metadata": {},
     "output_type": "execute_result"
    }
   ],
   "source": [
    "\"{:0.2f}\".format(roc_auc_score(y_valid, y_hat)*100.0)"
   ]
  },
  {
   "cell_type": "code",
   "execution_count": null,
   "metadata": {},
   "outputs": [],
   "source": []
  }
 ],
 "metadata": {
  "kernelspec": {
   "display_name": "Python 3",
   "language": "python",
   "name": "python3"
  },
  "language_info": {
   "codemirror_mode": {
    "name": "ipython",
    "version": 3
   },
   "file_extension": ".py",
   "mimetype": "text/x-python",
   "name": "python",
   "nbconvert_exporter": "python",
   "pygments_lexer": "ipython3",
   "version": "3.8.6"
  }
 },
 "nbformat": 4,
 "nbformat_minor": 4
}
